{
 "cells": [
  {
   "cell_type": "code",
   "execution_count": 2,
   "metadata": {
    "collapsed": true
   },
   "outputs": [],
   "source": [
    "import pandas as pd\n",
    "from tensorflow import keras\n",
    "import tensorflow as tf\n",
    "import numpy as np\n",
    "%matplotlib inline\n",
    "import matplotlib.pyplot as plt\n",
    "from sklearn.model_selection import train_test_split\n",
    "import pickle as pkl\n",
    "import cv2\n",
    "from PIL import Image\n",
    "from sklearn.cluster import KMeans\n",
    "from sklearn.cluster import MiniBatchKMeans\n",
    "from sklearn.preprocessing import OneHotEncoder\n",
    "import math\n",
    "import colorsys"
   ]
  },
  {
   "cell_type": "code",
   "execution_count": null,
   "outputs": [],
   "source": [
    "def resize_to_3d(image: np.array):\n",
    "    img = np.reshape(image, (32, 32, 1))\n",
    "    img = np.repeat(img, 3, axis=3)\n",
    "    return img\n"
   ],
   "metadata": {
    "collapsed": false,
    "pycharm": {
     "name": "#%%\n"
    }
   }
  },
  {
   "cell_type": "code",
   "execution_count": 62,
   "outputs": [],
   "source": [
    "def kmeans( image, n ):                     # Uses k-Means to quantize an image into n colors.\n",
    "    image = cv2.cvtColor( image, cv2.COLOR_BGR2LAB )# The LAB color space is especially useful for this type of system, as it's similar to how a human eye works\n",
    "    w, h, _ = image.shape                           # Gets the shape of the image for the next step\n",
    "    image = image.reshape( ( image.shape[ 0 ] * image.shape[ 1 ], 3 ) ) #k-Means required an image to be one pixel tall for some reason\n",
    "    clt = MiniBatchKMeans( n_clusters = n )         # Creates a new kMeans system. Cluster count tells how many regions of best fit should be made.\n",
    "    labels = clt.fit_predict( image )               # This takes a aet of inputted colors and tries to find clusters of data. Similar to how one might move a '3d cursor' to the center of data on -a 3d mqp\n",
    "    quant = clt.cluster_centers_.astype( \"uint8\" )[ labels ]    #Replaces every pixel with the closewt color k-Means found\n",
    "    quant = quant.reshape( ( h, w, 3 ) )            # Rescales the quantized image back into its original shape. Simply imagine the pixels line wrqpping similar to a wore processor\n",
    "    quant = cv2.cvtColor( quant, cv2.COLOR_LAB2BGR )# Reverts the color as well\n",
    "    #for i in labels: print(labels)\n",
    "    return quant, labels\n",
    "\n",
    "\n",
    "def preprocess(x_train, x_test, y_train, y_test, num_classes, regression=False):\n",
    "    if type(x_train) != np.ndarray:\n",
    "        x_train = x_train.to_numpy().astype('float32')\n",
    "        x_test = x_test.to_numpy().astype('float32')\n",
    "        y_train = y_train.to_numpy().astype('float32')\n",
    "        y_test = y_test.to_numpy().astype('float32')\n",
    "    if regression == False:\n",
    "        y_train = keras.utils.to_categorical(y_train, num_classes=num_classes)\n",
    "        y_test = keras.utils.to_categorical(y_test, num_classes=num_classes)\n",
    "\n",
    "    x_train = np.reshape(x_train, (-1, int(math.sqrt(x_train.shape[1])), int(math.sqrt(x_train.shape[1]))))\n",
    "    x_test = np.reshape(x_test, (-1, int(math.sqrt(x_test.shape[1])), int(math.sqrt(x_test.shape[1]))))\n",
    "\n",
    "    x_train_ = np.zeros((x_train.shape[0], 32, 32))\n",
    "    x_test_ = np.zeros((x_test.shape[0], 32, 32))\n",
    "\n",
    "    for i in range(x_train.shape[0]):\n",
    "        x_train_[i] = cv2.resize(x_train[i], (32, 32))\n",
    "\n",
    "    for i in range(x_test.shape[0]):\n",
    "        x_test_[i] = cv2.resize(x_test[i], (32, 32))\n",
    "\n",
    "    x_train = x_train_\n",
    "    x_test = x_test_\n",
    "\n",
    "    x_train = np.reshape(x_train, (-1, 32, 32, 1))\n",
    "    x_test = np.reshape(x_test, (-1, 32, 32, 1))\n",
    "\n",
    "    x_train = np.repeat(x_train, 3, axis=3)\n",
    "    x_test = np.repeat(x_test, 3, axis=3)\n",
    "    return x_train, x_test, y_train, y_test\n",
    "\n",
    "def avg_distance_from_center(image: np.array):\n",
    "    subs = (np.argwhere(image>0) - np.array([5/2, 5/2]))\n",
    "    out = np.sqrt(np.einsum('ij,ij->i',subs,subs)).mean()\n",
    "    return out\n",
    "\n",
    "def view(image):\n",
    "    plt.imshow(image)\n",
    "    plt.show()\n",
    "\n"
   ],
   "metadata": {
    "collapsed": false,
    "pycharm": {
     "name": "#%%\n"
    }
   }
  },
  {
   "cell_type": "code",
   "execution_count": 41,
   "outputs": [],
   "source": [
    "df = pd.DataFrame(columns=[\"image\", \"shape\", \"letter\", \"rotation\"])\n",
    "df[\"image\"] = df[\"image\"].astype(object)\n",
    "\n",
    "shape_labels = [\"circle\", \"semicircle\", \"quartercircle\", \"triangle\",\n",
    "          \"square\", \"rectangle\", \"trapezoid\", \"pentagon\", \"hexagon\",\n",
    "          \"heptagon\", \"octagon\", \"star\", \"cross\"]\n",
    "\n",
    "with open('./data/vals.txt') as f:\n",
    "    for line in f.readlines():\n",
    "        path, label = line.split(' ')\n",
    "        label = [int(i) for i in label.split(\",\")]\n",
    "        x1, y1, x2, y2, zero = label\n",
    "        img = cv2.imread(f\"./data/{path}\")\n",
    "        img = img[y1:y2, x1:x2]\n",
    "        size=28  # 28x28 image\n",
    "        #dx = size-(x2-x1)\n",
    "        #dy = size-(y2-y1)\n",
    "        #if dx % 2 == 1:  # if odd, do put +1 more padding on one side\n",
    "        #    fx1 = (dx-1)//2  # x dim first padding\n",
    "        #    fx2 = fx1+1  # x dim last padding\n",
    "#\n",
    "        #    fy1 = (dy-1)//2  # y dim first padding\n",
    "        #    fy2 = fy1+1  # y dim last padding\n",
    "        #else:\n",
    "        #    fx1, fx2 = dx//2, dx//2\n",
    "        #    fy1, fy2 = dy//2, dy//2\n",
    "#\n",
    "        #padded_img = np.pad(img, ((fy1, fy2), (fx1, fx2), (0, 0)))\n",
    "        padded_img = cv2.resize(padded_img, (32, 32))\n",
    "        nothing, shape, letter, rotation = path.split(\"_\")\n",
    "        rotation = rotation.split(\".\")[0]\n",
    "        data = {\n",
    "            \"image\": [padded_img],\n",
    "            \"shape\": [shape],\n",
    "            \"letter\": [letter],\n",
    "            \"rotation\": [rotation]\n",
    "        }\n",
    "        df2 = pd.DataFrame(data)\n",
    "        df = df.append(df2)"
   ],
   "metadata": {
    "collapsed": false,
    "pycharm": {
     "name": "#%%\n"
    }
   }
  },
  {
   "cell_type": "code",
   "execution_count": null,
   "outputs": [],
   "source": [
    "#Letter Classifier\n",
    "alphabet = \"ABCDEFGHIJKLMNOPQRSTUVWXYZ\"\n",
    "\n",
    "images = df[\"image\"].to_numpy()\n",
    "images = np.array(images)\n",
    "images = np.vstack(images)\n",
    "images = np.reshape(images, (-1, 75, 75, 3))\n",
    "\n",
    "labels = np.asarray(df[\"letter\"])\n",
    "encode = np.vectorize(alphabet.index)\n",
    "labels = encode(labels)\n",
    "labels = keras.utils.to_categorical(labels, num_classes=26)\n",
    "\n",
    "images_ = np.zeros((images.shape[0], 32, 32))\n",
    "\n",
    "for i in range(images.shape[0]):\n",
    "    images_[i] = cv2.resize(images[i], (32, 32))\n",
    "\n",
    "images = images_\n",
    "\n",
    "#data_augmentation = keras.Sequential(\n",
    "#    [\n",
    "#        keras.layers.RandomFlip(),\n",
    "#        keras.layers.RandomRotation(0.1),\n",
    "#        keras.layers.RandomZoom(0.1),\n",
    "#    ]\n",
    "#)\n",
    "#\n",
    "#train_dataset = tf.data.Dataset.from_tensor_slices((x_train, y_train))\n",
    "#train_dataset = train_dataset.batch(16).map(lambda x, y: (data_augmentation(x), y))\n",
    "#\n",
    "#test_dataset = tf.data.Dataset.from_tensor_slices((x_test, y_test))\n",
    "#train_dataset = test_dataset.batch(16)\n",
    "model = keras.models.load_model('./models/letter_classifier')\n",
    "y = model.predict(images[0])\n",
    "print(y)\n",
    "#model.compile(optimizer=keras.optimizers.RMSprop(learning_rate=1e-3),\n",
    "             # loss=keras.losses.categorical_crossentropy, metrics=['accuracy'])\n",
    "\n",
    "#callback = keras.callbacks.EarlyStopping(monitor=\"val_accuracy\", min_delta=.5, patience=3, restore_best_weights=True)\n",
    "\n",
    "#model.fit(x=x_train, y=y_train, batch_size=16, epochs=100, validation_data=(x_test, y_test), shuffle=True)#, callbacks=[callback])\n"
   ],
   "metadata": {
    "collapsed": false,
    "pycharm": {
     "name": "#%%\n"
    }
   }
  },
  {
   "cell_type": "code",
   "execution_count": 36,
   "outputs": [],
   "source": [
    "df_letter = pd.read_csv(\"letter_data.csv\", names=[str(i) for i in range(785)])"
   ],
   "metadata": {
    "collapsed": false,
    "pycharm": {
     "name": "#%%\n"
    }
   }
  },
  {
   "cell_type": "code",
   "execution_count": 7,
   "outputs": [],
   "source": [
    "class ConvNetLetter(keras.Model):\n",
    "    def __init__(self):\n",
    "        super(ConvNetLetter, self).__init__()\n",
    "        self.norm = tf.keras.layers.Normalization(axis=None)\n",
    "        self.resnet = keras.applications.ResNet50V2(weights='imagenet', include_top=False,\n",
    "                                                    input_shape=(32, 32, 3))\n",
    "        for layer in self.resnet.layers:\n",
    "            layer.trainable = False\n",
    "        self.model = keras.Sequential([\n",
    "            keras.layers.Flatten(),\n",
    "            keras.layers.Dense(26, activation='softmax')\n",
    "        ])\n",
    "\n",
    "    def call(self, inputs):\n",
    "        x = self.norm(inputs)\n",
    "        x = self.resnet(x)\n",
    "        return self.model(x)\n"
   ],
   "metadata": {
    "collapsed": false,
    "pycharm": {
     "name": "#%%\n"
    }
   }
  },
  {
   "cell_type": "code",
   "execution_count": 8,
   "outputs": [
    {
     "name": "stdout",
     "output_type": "stream",
     "text": [
      "(312858, 32, 32, 3)\n",
      "(312858, 26)\n",
      "Epoch 1/100\n",
      "4889/4889 [==============================] - 76s 15ms/step - loss: 7.3532 - accuracy: 0.7508 - val_loss: 10.2017 - val_accuracy: 0.7545\n",
      "Epoch 2/100\n",
      "4889/4889 [==============================] - 72s 15ms/step - loss: 5.0534 - accuracy: 0.8376 - val_loss: 5.8809 - val_accuracy: 0.8091\n",
      "Epoch 3/100\n",
      "4889/4889 [==============================] - 72s 15ms/step - loss: 4.7527 - accuracy: 0.8559 - val_loss: 6.1472 - val_accuracy: 0.8218\n",
      "Epoch 4/100\n",
      "4889/4889 [==============================] - 71s 14ms/step - loss: 4.5664 - accuracy: 0.8653 - val_loss: 4.2156 - val_accuracy: 0.8866\n",
      "Epoch 5/100\n",
      "4889/4889 [==============================] - 71s 14ms/step - loss: 4.4711 - accuracy: 0.8719 - val_loss: 12.0749 - val_accuracy: 0.7271\n",
      "Epoch 6/100\n",
      "4889/4889 [==============================] - 70s 14ms/step - loss: 4.4212 - accuracy: 0.8775 - val_loss: 6.8827 - val_accuracy: 0.8127\n",
      "INFO:tensorflow:Assets written to: ./models/letter_classifier\\assets\n"
     ]
    }
   ],
   "source": [
    "\n",
    "x_train, x_test, y_train, y_test = train_test_split(df_letter.drop(columns=\"0\"), df_letter[\"0\"], test_size=0.16,\n",
    "                                                    random_state=19, stratify=df_letter[\"0\"])\n",
    "\n",
    "x_train, x_test, y_train, y_test = preprocess(x_train, x_test, y_train, y_test, 26)\n",
    "\n",
    "print(x_train.shape)\n",
    "print(y_train.shape)\n",
    "model = ConvNetLetter()\n",
    "model.compile(optimizer=keras.optimizers.RMSprop(learning_rate=1e-3),\n",
    "              loss=keras.losses.categorical_crossentropy, metrics=['accuracy'])\n",
    "\n",
    "callback = keras.callbacks.EarlyStopping(monitor=\"val_accuracy\", min_delta=.5, patience=5, restore_best_weights=True)\n",
    "\n",
    "model.fit(x=x_train, y=y_train, batch_size=64, epochs=100, validation_data=(x_test, y_test), shuffle=True, callbacks=[callback])\n",
    "model.save(\"./models/letter_classifier\")"
   ],
   "metadata": {
    "collapsed": false,
    "pycharm": {
     "name": "#%%\n"
    }
   }
  },
  {
   "cell_type": "code",
   "execution_count": 80,
   "outputs": [
    {
     "name": "stdout",
     "output_type": "stream",
     "text": [
      "(9604,)\n",
      "<class 'pandas.core.series.Series'>\n"
     ]
    },
    {
     "data": {
      "text/plain": "<Figure size 432x288 with 1 Axes>",
      "image/png": "[encoded data removed]"
     },
     "metadata": {
      "needs_background": "light"
     },
     "output_type": "display_data"
    },
    {
     "ename": "NameError",
     "evalue": "name 'wefwefwe' is not defined",
     "output_type": "error",
     "traceback": [
      "\u001B[1;31m---------------------------------------------------------------------------\u001B[0m",
      "\u001B[1;31mNameError\u001B[0m                                 Traceback (most recent call last)",
      "Input \u001B[1;32mIn [80]\u001B[0m, in \u001B[0;36m<cell line: 9>\u001B[1;34m()\u001B[0m\n\u001B[0;32m      7\u001B[0m plt\u001B[38;5;241m.\u001B[39mimshow(x)\n\u001B[0;32m      8\u001B[0m plt\u001B[38;5;241m.\u001B[39mshow()\n\u001B[1;32m----> 9\u001B[0m \u001B[43mwefwefwe\u001B[49m\n",
      "\u001B[1;31mNameError\u001B[0m: name 'wefwefwe' is not defined"
     ]
    }
   ],
   "source": [
    "df_shape = pd.read_csv(\"shape_data2.csv\", names=[str(i) for i in range(98*98 + 1)])"
   ],
   "metadata": {
    "collapsed": false,
    "pycharm": {
     "name": "#%%\n"
    }
   }
  },
  {
   "cell_type": "code",
   "execution_count": null,
   "outputs": [],
   "source": [
    "class ConvNetShapeLetter(keras.Model):\n",
    "    def __init__(self):\n",
    "        super(ConvNetShapeLetter, self).__init__()\n",
    "        self.norm = tf.keras.layers.Normalization(axis=None)\n",
    "        self.resnet = keras.applications.ResNet50V2(weights='imagenet', include_top=False,\n",
    "                                                    input_shape=(32, 32, 3))\n",
    "        for layer in self.resnet.layers:\n",
    "            layer.trainable = False\n",
    "        self.model = keras.Sequential([\n",
    "            keras.layers.Flatten(),\n",
    "            keras.layers.Dense(13, activation='softmax')\n",
    "        ])\n",
    "\n",
    "    def call(self, inputs):\n",
    "        x = self.norm(inputs)\n",
    "        x = self.resnet(x)\n",
    "        return self.model(x)\n"
   ],
   "metadata": {
    "collapsed": false,
    "pycharm": {
     "name": "#%%\n"
    }
   }
  },
  {
   "cell_type": "code",
   "execution_count": 81,
   "outputs": [
    {
     "name": "stderr",
     "output_type": "stream",
     "text": [
      "Clipping input data to the valid range for imshow with RGB data ([0..1] for floats or [0..255] for integers).\n"
     ]
    },
    {
     "name": "stdout",
     "output_type": "stream",
     "text": [
      "(10920, 32, 32, 3)\n",
      "(10920, 13)\n"
     ]
    },
    {
     "data": {
      "text/plain": "<Figure size 432x288 with 1 Axes>",
      "image/png": "[encoded data removed]"
     },
     "metadata": {
      "needs_background": "light"
     },
     "output_type": "display_data"
    },
    {
     "name": "stdout",
     "output_type": "stream",
     "text": [
      "Epoch 1/100\n",
      "171/171 [==============================] - 6s 24ms/step - loss: 25.9518 - accuracy: 0.4929 - val_loss: 11.1240 - val_accuracy: 0.6567\n",
      "Epoch 2/100\n",
      "171/171 [==============================] - 3s 16ms/step - loss: 10.0631 - accuracy: 0.7318 - val_loss: 12.6936 - val_accuracy: 0.7625\n",
      "Epoch 3/100\n",
      "171/171 [==============================] - 3s 15ms/step - loss: 6.8766 - accuracy: 0.8056 - val_loss: 3.7638 - val_accuracy: 0.8889\n",
      "Epoch 4/100\n",
      "171/171 [==============================] - 3s 17ms/step - loss: 5.6883 - accuracy: 0.8496 - val_loss: 12.6956 - val_accuracy: 0.7716\n",
      "Epoch 5/100\n",
      "171/171 [==============================] - 3s 16ms/step - loss: 4.7114 - accuracy: 0.8730 - val_loss: 2.2263 - val_accuracy: 0.8899\n",
      "Epoch 6/100\n",
      "171/171 [==============================] - 3s 17ms/step - loss: 3.7445 - accuracy: 0.8983 - val_loss: 13.0641 - val_accuracy: 0.8538\n",
      "INFO:tensorflow:Assets written to: ./models/classify_shape\\assets\n"
     ]
    }
   ],
   "source": [
    "x_train, x_test, y_train, y_test = train_test_split(df_shape.drop(columns=\"0\"), df_shape[\"0\"], test_size=0.16,\n",
    "                                                    random_state=19, stratify=df_shape[\"0\"])\n",
    "\n",
    "x_train, x_test, y_train, y_test = preprocess(x_train, x_test, y_train, y_test, 13)\n",
    "print(x_train.shape)\n",
    "print(y_train.shape)\n",
    "\n",
    "model = ConvNetShapeLetter()\n",
    "model.compile(optimizer=keras.optimizers.RMSprop(learning_rate=1e-3),\n",
    "              loss=keras.losses.categorical_crossentropy, metrics=['accuracy'])\n",
    "\n",
    "callback = keras.callbacks.EarlyStopping(monitor=\"val_accuracy\", min_delta=.5, patience=5, restore_best_weights=True)\n",
    "\n",
    "model.fit(x=x_train, y=y_train, batch_size=64, epochs=100, validation_data=(x_test, y_test), shuffle=True, callbacks=[callback])\n",
    "model.save(\"./models/classify_shape\")"
   ],
   "metadata": {
    "collapsed": false,
    "pycharm": {
     "name": "#%%\n"
    }
   }
  },
  {
   "cell_type": "code",
   "execution_count": 83,
   "outputs": [],
   "source": [
    "class ConvNetClassify(keras.Model):\n",
    "    def __init__(self):\n",
    "        super(ConvNetClassify, self).__init__()\n",
    "        self.norm = tf.keras.layers.Normalization(axis=None)\n",
    "        self.resnet = keras.applications.ResNet50V2(weights='imagenet', include_top=False,\n",
    "                                                    input_shape=(32, 32, 3))\n",
    "        for layer in self.resnet.layers:\n",
    "            layer.trainable = False\n",
    "        self.model = keras.Sequential([\n",
    "            keras.layers.Flatten(),\n",
    "            keras.layers.Dense(2, activation='softmax')\n",
    "        ])\n",
    "\n",
    "    def call(self, inputs):\n",
    "        x = self.norm(inputs)\n",
    "        x = self.resnet(x)\n",
    "        return self.model(x)"
   ],
   "metadata": {
    "collapsed": false,
    "pycharm": {
     "name": "#%%\n"
    }
   }
  },
  {
   "cell_type": "code",
   "execution_count": 86,
   "outputs": [
    {
     "name": "stdout",
     "output_type": "stream",
     "text": [
      "DONE\n",
      "Epoch 1/100\n",
      "4992/4992 [==============================] - 92s 18ms/step - loss: 0.0104 - accuracy: 0.9996 - val_loss: 4.0890e-05 - val_accuracy: 1.0000\n",
      "Epoch 2/100\n",
      "4992/4992 [==============================] - 92s 18ms/step - loss: 8.0954e-04 - accuracy: 1.0000 - val_loss: 8.1071e-09 - val_accuracy: 1.0000\n",
      "Epoch 3/100\n",
      "4992/4992 [==============================] - 88s 18ms/step - loss: 1.6787e-04 - accuracy: 1.0000 - val_loss: 9.2125e-04 - val_accuracy: 0.9999\n",
      "Epoch 4/100\n",
      "4992/4992 [==============================] - 91s 18ms/step - loss: 2.2252e-04 - accuracy: 1.0000 - val_loss: 1.7128e-08 - val_accuracy: 1.0000\n",
      "Epoch 5/100\n",
      "4992/4992 [==============================] - 91s 18ms/step - loss: 0.0000e+00 - accuracy: 1.0000 - val_loss: 5.6141e-09 - val_accuracy: 1.0000\n",
      "Epoch 6/100\n",
      "4992/4992 [==============================] - 91s 18ms/step - loss: 0.0000e+00 - accuracy: 1.0000 - val_loss: 6.0760e-08 - val_accuracy: 1.0000\n",
      "INFO:tensorflow:Assets written to: ./models/classify\\assets\n"
     ]
    }
   ],
   "source": [
    "df_shape = pd.read_csv(\"shape_data3.csv\", names=[str(i) for i in range(785)])\n",
    "df_letter = pd.read_csv(\"letter_data.csv\", names=[str(i) for i in range(785)])\n",
    "\n",
    "print(\"DONE\")\n",
    "df_letter[\"0\"] = 0  # 0 is letter, 1 is shape\n",
    "df_shape[\"0\"] = 1\n",
    "\n",
    "df_classify = pd.concat([df_shape, df_letter])\n",
    "\n",
    "x_train, x_test, y_train, y_test = train_test_split(df_classify.drop(columns=\"0\"), df_classify[\"0\"], test_size=0.16,\n",
    "                                                    random_state=19, stratify=df_classify[\"0\"])\n",
    "\n",
    "x_train, x_test, y_train, y_test = preprocess(x_train, x_test, y_train, y_test, 2)\n",
    "\n",
    "model = ConvNetClassify()\n",
    "model.compile(optimizer=keras.optimizers.RMSprop(learning_rate=1e-3),\n",
    "              loss=keras.losses.categorical_crossentropy, metrics=['accuracy'])\n",
    "\n",
    "callback = keras.callbacks.EarlyStopping(monitor=\"val_accuracy\", min_delta=.5, patience=5, restore_best_weights=True)\n",
    "\n",
    "model.fit(x=x_train, y=y_train, batch_size=64, epochs=100, validation_data=(x_test, y_test), shuffle=True, callbacks=[callback])\n",
    "model.save(\"./models/classify\") # one hot encoding, [1, 0] is letter, [0, 1] is shape"
   ],
   "metadata": {
    "collapsed": false,
    "pycharm": {
     "name": "#%%\n"
    }
   }
  },
  {
   "cell_type": "markdown",
   "source": [],
   "metadata": {
    "collapsed": false,
    "pycharm": {
     "name": "#%% md\n"
    }
   }
  },
  {
   "cell_type": "code",
   "execution_count": null,
   "outputs": [],
   "source": [
    "class ConvNetRotation(keras.Model):\n",
    "    def __init__(self):\n",
    "        super(ConvNetRotation, self).__init__()\n",
    "        self.norm = tf.keras.layers.Normalization(axis=None)\n",
    "        self.resnet = keras.applications.ResNet50V2(weights='imagenet', include_top=False,\n",
    "                                                    input_shape=(32, 32, 3))\n",
    "        for layer in self.resnet.layers:\n",
    "            layer.trainable = False\n",
    "        self.model = keras.Sequential([\n",
    "            keras.layers.Flatten(),\n",
    "            keras.layers.Dense(360, activation='relu'),\n",
    "            keras.layers.Dropout(0.2),\n",
    "            keras.layers.Dense(1, activation='tanh')\n",
    "        ])\n",
    "\n",
    "    def call(self, inputs):\n",
    "        x = self.norm(inputs)\n",
    "        x = self.resnet(x)\n",
    "        return self.model(x)"
   ],
   "metadata": {
    "collapsed": false,
    "pycharm": {
     "name": "#%%\n"
    }
   }
  },
  {
   "cell_type": "code",
   "execution_count": null,
   "outputs": [],
   "source": [
    "def angle_difference(x, y):\n",
    "    \"\"\"\n",
    "    Calculate minimum difference between two angles.\n",
    "    \"\"\"\n",
    "    return 180 - abs(abs(x - y) - 180)\n",
    "\n",
    "def angle_error(y_true, y_pred):\n",
    "    \"\"\"\n",
    "    Calculate the mean diference between the true angles\n",
    "    and the predicted angles. Each angle is represented\n",
    "    as a binary vector.\n",
    "    \"\"\"\n",
    "    print(y_true, y_pred)\n",
    "    diff = angle_difference(keras.backend.argmax(y_true), keras.backend.argmax(y_pred))\n",
    "    return keras.backend.mean(keras.backend.cast(keras.backend.abs(diff), keras.backend.floatx()))\n",
    "\n",
    "\n",
    "def angle_error_regression(y_true, y_pred):\n",
    "    \"\"\"\n",
    "    Calculate the mean diference between the true angles\n",
    "    and the predicted angles. Each angle is represented\n",
    "    as a float number between 0 and 1.\n",
    "    \"\"\"\n",
    "    return keras.backend.mean(angle_difference(y_true * 360, y_pred * 360))\n",
    "\n",
    "df_rotation = pd.read_csv(\"rotation.csv\", names=[str(i) for i in range(785)])\n",
    "\n",
    "x_train, x_test, y_train, y_test = train_test_split(df_rotation.drop(columns=\"0\"), df_rotation[\"0\"], test_size=0.16,\n",
    "                                                    random_state=19, stratify=df_rotation[\"0\"])\n",
    "\n",
    "x_train, x_test, y_train, y_test = preprocess(x_train, x_test, y_train, y_test, 360, regression=True)\n",
    "\n",
    "model = ConvNetRotation()\n",
    "model.compile(optimizer=keras.optimizers.RMSprop(learning_rate=1e-3),\n",
    "              loss=\"mse\", metrics=[angle_error])\n",
    "\n",
    "callback = keras.callbacks.EarlyStopping(monitor=\"val_loss\", min_delta=.5, patience=5, restore_best_weights=True)\n",
    "\n",
    "model.fit(x=x_train, y=y_train, batch_size=64, epochs=100, validation_data=(x_test, y_test), shuffle=True, callbacks=[callback])\n",
    "model.save(\"./models/rotation\")"
   ],
   "metadata": {
    "collapsed": false,
    "pycharm": {
     "name": "#%%\n"
    }
   }
  },
  {
   "cell_type": "code",
   "execution_count": 3,
   "outputs": [],
   "source": [
    "def kmeans( image, n ):                     # Uses k-Means to quantize an image into n colors.\n",
    "    image = cv2.cvtColor( image, cv2.COLOR_BGR2LAB )# The LAB color space is especially useful for this type of system, as it's similar to how a human eye works\n",
    "    w, h, _ = image.shape                           # Gets the shape of the image for the next step\n",
    "    image = image.reshape( ( image.shape[ 0 ] * image.shape[ 1 ], 3 ) ) #k-Means required an image to be one pixel tall for some reason\n",
    "    clt = MiniBatchKMeans( n_clusters = n )         # Creates a new kMeans system. Cluster count tells how many regions of best fit should be made.\n",
    "    labels = clt.fit_predict( image )               # This takes a aet of inputted colors and tries to find clusters of data. Similar to how one might move a '3d cursor' to the center of data on -a 3d mqp\n",
    "    quant = clt.cluster_centers_.astype( \"uint8\" )[ labels ]    #Replaces every pixel with the closewt color k-Means found\n",
    "    quant = quant.reshape( ( h, w, 3 ) )            # Rescales the quantized image back into its original shape. Simply imagine the pixels line wrqpping similar to a wore processor\n",
    "    quant = cv2.cvtColor( quant, cv2.COLOR_LAB2BGR )# Reverts the color as well\n",
    "    #for i in labels: print(labels)\n",
    "    return quant, labels\n",
    "\n",
    "def mask(img, color):\n",
    "    image = img.copy()\n",
    "    for x in range(image.shape[0]):\n",
    "        for y in range(image.shape[0]):\n",
    "            if not np.array_equal(image[x, y], color):\n",
    "                image[x, y] = np.array([0, 0, 0])\n",
    "            else:\n",
    "                image[x, y] = np.array([255, 255, 255])\n",
    "    return image\n",
    "\n",
    "\n",
    "def get_shape_and_image_picture(img: np.array):\n",
    "    new_img = np.reshape(img, (-1, 3))\n",
    "    colors = np.unique(new_img, axis=0)\n",
    "    l = []\n",
    "    for color in colors:\n",
    "        image = mask(img, color)\n",
    "        image = cv2.cvtColor(image, cv2.COLOR_RGB2GRAY)\n",
    "        d = avg_distance_from_center(image.copy())\n",
    "        l.append([image, d])\n",
    "    l = sorted(l, key=lambda tup: tup[1])\n",
    "    return l[0][0], l[1][0]  # letter image, shape image\n",
    "\n",
    "def avg_distance_from_center(image: np.array):\n",
    "    subs = (np.argwhere(image>0) - np.array([5/2, 5/2]))\n",
    "    out = np.sqrt(np.einsum('ij,ij->i',subs,subs)).mean()\n",
    "    return out"
   ],
   "metadata": {
    "collapsed": false,
    "pycharm": {
     "name": "#%%\n"
    }
   }
  },
  {
   "cell_type": "code",
   "execution_count": null,
   "outputs": [],
   "source": [
    "def main(img: np.array):\n",
    "    letter_model = keras.models.load_model(\"models/letter_classifier\")\n",
    "    shape_model = keras.models.load_model(\"models/classify_shape\")\n",
    "    shape_labels = [\"circle\", \"semicircle\", \"quartercircle\", \"triangle\",\n",
    "              \"square\", \"rectangle\", \"trapezoid\", \"pentagon\", \"hexagon\",\n",
    "              \"heptagon\", \"octagon\", \"star\", \"cross\"]\n",
    "    alphabet = \"ABCDEFGHIJKLMNOPQRSTUVWXYZ\"\n",
    "    img = cv2.resize(img, (28,28))\n",
    "    img, labels = kmeans(img, 4)\n",
    "    letter_image, shape_image = get_shape_and_image_picture(img)\n",
    "    shape_image = cv2.bitwise_or(letter_image, shape_image)\n",
    "    letter_image = cv2.cvtColor(letter_image, cv2.COLOR_GRAY2RGB)\n",
    "    shape_image = cv2.cvtColor(shape_image, cv2.COLOR_GRAY2RGB)\n",
    "\n",
    "    letter_image = np.reshape(letter_image, (1, 32, 32, 3)).astype('float32')\n",
    "    shape_image = np.reshape(shape_image, (1, 32, 32, 3)).astype('float32')\n",
    "\n",
    "    letter_matrix = letter_model.predict(letter_image)\n",
    "    shape_matrix = shape_model.predict(shape_image)\n",
    "    return alphabet[np.argmax(letter_matrix)], shape_labels[np.argmax(shape_matrix)]  # letter, shape prediction"
   ],
   "metadata": {
    "collapsed": false,
    "pycharm": {
     "name": "#%%\n"
    }
   }
  },
  {
   "cell_type": "code",
   "execution_count": 8,
   "outputs": [
    {
     "ename": "KeyboardInterrupt",
     "evalue": "",
     "output_type": "error",
     "traceback": [
      "\u001B[1;31m---------------------------------------------------------------------------\u001B[0m",
      "\u001B[1;31mKeyboardInterrupt\u001B[0m                         Traceback (most recent call last)",
      "Input \u001B[1;32mIn [8]\u001B[0m, in \u001B[0;36m<cell line: 10>\u001B[1;34m()\u001B[0m\n\u001B[0;32m     39\u001B[0m cv2\u001B[38;5;241m.\u001B[39mimshow(letter, letter_image)\n\u001B[0;32m     40\u001B[0m cv2\u001B[38;5;241m.\u001B[39mimshow(shape, shape_image)\n\u001B[1;32m---> 41\u001B[0m \u001B[43mcv2\u001B[49m\u001B[38;5;241;43m.\u001B[39;49m\u001B[43mwaitKey\u001B[49m\u001B[43m(\u001B[49m\u001B[38;5;241;43m0\u001B[39;49m\u001B[43m)\u001B[49m\n\u001B[0;32m     42\u001B[0m \u001B[38;5;28;01mcontinue\u001B[39;00m\n\u001B[0;32m     43\u001B[0m letter_image \u001B[38;5;241m=\u001B[39m cv2\u001B[38;5;241m.\u001B[39mcvtColor(letter_image, cv2\u001B[38;5;241m.\u001B[39mCOLOR_GRAY2RGB)\n",
      "\u001B[1;31mKeyboardInterrupt\u001B[0m: "
     ]
    }
   ],
   "source": [
    "letter_model = keras.models.load_model(\"models/letter_classifier\")\n",
    "shape_model = keras.models.load_model(\"models/classify_shape\")\n",
    "shape_labels = [\"circle\", \"semicircle\", \"quartercircle\", \"triangle\",\n",
    "          \"square\", \"rectangle\", \"trapezoid\", \"pentagon\", \"hexagon\",\n",
    "          \"heptagon\", \"octagon\", \"star\", \"cross\"]\n",
    "alphabet = \"ABCDEFGHIJKLMNOPQRSTUVWXYZ\"\n",
    "letter_correct = 0\n",
    "shape_correct = 0\n",
    "both_correct = 0\n",
    "count = 0\n",
    "with open('./data/vals.txt') as f:\n",
    "    for line in f.readlines():\n",
    "        if count >= 100:\n",
    "            break\n",
    "        path, label = line.split(' ')\n",
    "        label = [int(i) for i in label.split(\",\")]\n",
    "        x1, y1, x2, y2, zero = label\n",
    "        img = cv2.imread(f\"./data/{path}\")\n",
    "        img = img[y1:y2, x1:x2]\n",
    "        nothing, shape, letter, rotation = path.split(\"_\")\n",
    "        rotation = rotation.split(\".\")[0]\n",
    "\n",
    "\n",
    "        size=28  # 28x28 image\n",
    "        #plt.imshow(img)\n",
    "        #plt.show()\n",
    "        img = img.copy()\n",
    "        img = cv2.resize(img, (28,28))\n",
    "\n",
    "        img, labels = kmeans(img, 4)\n",
    "        letter_image, shape_image = get_shape_and_image_picture(img)\n",
    "        shape_image = cv2.bitwise_or(letter_image, shape_image)\n",
    "        #letter_image = cv2.resize(letter_image, (300,300))\n",
    "        #shape_image = cv2.resize(shape_image, (300, 300))\n",
    "        #cv2.imshow(letter, letter_image)\n",
    "        #cv2.imshow(shape, shape_image)\n",
    "        #cv2.waitKey(0)\n",
    "        letter_image = cv2.cvtColor(letter_image, cv2.COLOR_GRAY2RGB)\n",
    "        shape_image = cv2.cvtColor(shape_image, cv2.COLOR_GRAY2RGB)\n",
    "\n",
    "        letter_image = np.reshape(letter_image, (1, 32, 32, 3)).astype('float32')\n",
    "        shape_image = np.reshape(shape_image, (1, 32, 32, 3)).astype('float32')\n",
    "\n",
    "        letter_matrix = letter_model.predict(letter_image)\n",
    "        shape_matrix = shape_model.predict(shape_image)\n",
    "\n",
    "        if alphabet[np.argmax(letter_matrix)] == letter:\n",
    "            letter_correct += 1\n",
    "        if shape_labels[np.argmax(shape_matrix)] == shape:\n",
    "            shape_correct += 1\n",
    "        if alphabet[np.argmax(letter_matrix)] == letter and shape_labels[np.argmax(shape_matrix)] == shape:\n",
    "            both_correct += 1\n",
    "print(letter_correct)\n",
    "print(shape_correct)\n",
    "print(count)\n",
    "\n",
    "\n",
    "\n",
    "\n",
    "\n",
    "\n"
   ],
   "metadata": {
    "collapsed": false,
    "pycharm": {
     "name": "#%%\n"
    }
   }
  }
 ],
 "metadata": {
  "kernelspec": {
   "display_name": "Python 3",
   "language": "python",
   "name": "python3"
  },
  "language_info": {
   "codemirror_mode": {
    "name": "ipython",
    "version": 2
   },
   "file_extension": ".py",
   "mimetype": "text/x-python",
   "name": "python",
   "nbconvert_exporter": "python",
   "pygments_lexer": "ipython2",
   "version": "2.7.6"
  }
 },
 "nbformat": 4,
 "nbformat_minor": 0
}